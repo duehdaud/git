{
  "nbformat": 4,
  "nbformat_minor": 0,
  "metadata": {
    "colab": {
      "name": "KMOOC 객체지향프로그래밍 이해하기1 14주차_01한동대학교김경미 교수.ipynb",
      "provenance": [],
      "authorship_tag": "ABX9TyPuVdWTmhgreIRHE4Gmz/mi",
      "include_colab_link": true
    },
    "kernelspec": {
      "name": "python3",
      "display_name": "Python 3"
    }
  },
  "cells": [
    {
      "cell_type": "markdown",
      "metadata": {
        "id": "view-in-github",
        "colab_type": "text"
      },
      "source": [
        "<a href=\"https://colab.research.google.com/github/duehdaud/git/blob/master/KMOOC_%EA%B0%9D%EC%B2%B4%EC%A7%80%ED%96%A5%ED%94%84%EB%A1%9C%EA%B7%B8%EB%9E%98%EB%B0%8D_%EC%9D%B4%ED%95%B4%ED%95%98%EA%B8%B01_14%EC%A3%BC%EC%B0%A8_01%ED%95%9C%EB%8F%99%EB%8C%80%ED%95%99%EA%B5%90%EA%B9%80%EA%B2%BD%EB%AF%B8_%EA%B5%90%EC%88%98.ipynb\" target=\"_parent\"><img src=\"https://colab.research.google.com/assets/colab-badge.svg\" alt=\"Open In Colab\"/></a>"
      ]
    },
    {
      "cell_type": "code",
      "metadata": {
        "id": "IZVWtG4nacF1",
        "colab_type": "code",
        "colab": {
          "base_uri": "https://localhost:8080/",
          "height": 35
        },
        "outputId": "c1a99182-cc15-4e7d-c0eb-b39473b90082"
      },
      "source": [
        "class Person: # Class 정의, 이름\n",
        "  name = \"Default Name\" # member 변수\n",
        "  def Print(self): # method 정의\n",
        "    print(\"Hello, my name is \",self.name)\n",
        "p1=Person() # instance 객체 생성\n",
        "p1.Print() # member 변수 값 출력"
      ],
      "execution_count": 6,
      "outputs": [
        {
          "output_type": "stream",
          "text": [
            "Hello, my name is  Default Name\n"
          ],
          "name": "stdout"
        }
      ]
    },
    {
      "cell_type": "code",
      "metadata": {
        "id": "_rjvdwb-aqJC",
        "colab_type": "code",
        "colab": {
          "base_uri": "https://localhost:8080/",
          "height": 55
        },
        "outputId": "11d456e9-5c13-417a-fe1c-faef5175dd6b"
      },
      "source": [
        "''' 앞의 예제에서\n",
        "  #• Method를 정의할 때는 인수 ‘self’ 적어야 한다\n",
        "    #• Method name은 Print()이다\n",
        "  #• p1은 instance 이름이다\n",
        "    #• 함수를 호출하는 형태로 class을 assign 하면\n",
        "    #• 해당 class 객체와 동일한 데이터와 method를 사용 가능하다\n",
        "  #• 대소문자를 구분한다\n",
        "   • Class name, method name, instance name '''"
      ],
      "execution_count": 9,
      "outputs": [
        {
          "output_type": "execute_result",
          "data": {
            "text/plain": [
              "' 앞의 예제에서\\n  #• Method를 정의할 때는 인수 ‘self’ 적어야 한다\\n    #• Method name은 Print()이다\\n  #• p1은 instance 이름이다\\n    #• 함수를 호출하는 형태로 class을 assign 하면\\n    #• 해당 class 객체와 동일한 데이터와 method를 사용 가능하다\\n  #• 대소문자를 구분한다\\n   • Class name, method name, instance name '"
            ]
          },
          "metadata": {
            "tags": []
          },
          "execution_count": 9
        }
      ]
    },
    {
      "cell_type": "code",
      "metadata": {
        "id": "sAMWrBRfbXnq",
        "colab_type": "code",
        "colab": {
          "base_uri": "https://localhost:8080/",
          "height": 55
        },
        "outputId": "9cf35c03-5009-4103-9d52-b48bc6aae55c"
      },
      "source": [
        "'''\n",
        "Class 생성자, 소멸자 1\n",
        "• Instance 객체를 생성 할 때 초기화 기능 제공\n",
        "  • 기본 method __init__() 를 정의한다\n",
        "  • Instance 객체가 생성될 때 자동으로 호출되어 실행된다\n",
        "• 소멸자 method는 instance 객체의 레퍼런스 카운트가 ‘0’ 될 때 호출\n",
        "  • 기본 method __del__() 를 정의한다 '''"
      ],
      "execution_count": 10,
      "outputs": [
        {
          "output_type": "execute_result",
          "data": {
            "text/plain": [
              "'\\nClass 생성자, 소멸자 1\\n• Instance 객체를 생성 할 때 초기화 기능 제공\\n  • 기본 method __init__() 를 정의한다\\n  • Instance 객체가 생성될 때 자동으로 호출되어 실행된다\\n• 소멸자 method는 instance 객체의 레퍼런스 카운트가 ‘0’ 될 때 호출\\n  • 기본 method __del__() 를 정의한다 '"
            ]
          },
          "metadata": {
            "tags": []
          },
          "execution_count": 10
        }
      ]
    },
    {
      "cell_type": "code",
      "metadata": {
        "id": "5nGbcOgocvuP",
        "colab_type": "code",
        "colab": {
          "base_uri": "https://localhost:8080/",
          "height": 53
        },
        "outputId": "12dc280b-8ffa-4036-8f13-69f75dc3688b"
      },
      "source": [
        "class MyClass: # class 가 선언되었고\n",
        "  def __init__(self,value): \n",
        "    self.value=value #value 는 네가 부른 값이 출력되게 한다\n",
        "    print('Class is created! Value =',self.value)\n",
        "  def __del__(self): \n",
        "    print('Class is deleted')\n",
        "d=MyClass(10) # 근데 지금 MyClass 안에는 생성자하고 소멸자 밖에 없거든요. 그래서 생성자에서 출력해줍니다.\n",
        "#d 끝난 후에 아무것도 call 한거나 실행한 것이 없으므로 class 가 이미 소멸자가 실행이 되어서 class가 delete 되었다는 메시지가 뜹니다."
      ],
      "execution_count": 16,
      "outputs": [
        {
          "output_type": "stream",
          "text": [
            "Class is created! Value = 10\n",
            "Class is deleted\n"
          ],
          "name": "stdout"
        }
      ]
    },
    {
      "cell_type": "code",
      "metadata": {
        "id": "keRkuT7feKKE",
        "colab_type": "code",
        "colab": {
          "base_uri": "https://localhost:8080/",
          "height": 53
        },
        "outputId": "9b570def-297e-4a9d-e805-93c406db5993"
      },
      "source": [
        "d1=MyClass(20)"
      ],
      "execution_count": 19,
      "outputs": [
        {
          "output_type": "stream",
          "text": [
            "Class is created! Value = 20\n",
            "Class is deleted\n"
          ],
          "name": "stdout"
        }
      ]
    },
    {
      "cell_type": "code",
      "metadata": {
        "id": "OPcIpsFUeL1M",
        "colab_type": "code",
        "colab": {}
      },
      "source": [
        "#보통 소멸자는 생성자에 비해 상대적으로 많이 사용하지 않음.\n",
        "# 생성자는 자주 활용함"
      ],
      "execution_count": 0,
      "outputs": []
    },
    {
      "cell_type": "code",
      "metadata": {
        "id": "RFtvHKZseYcJ",
        "colab_type": "code",
        "colab": {
          "base_uri": "https://localhost:8080/",
          "height": 53
        },
        "outputId": "db0d71ca-4425-49c6-8176-298164e295e3"
      },
      "source": [
        "class Person:\n",
        "  def __init__(self,name):\n",
        "    self.name=name\n",
        "  def Hello(self):\n",
        "    print('Hello, my name is', self.name)\n",
        "  def __del__(self):\n",
        "    print(self.name,'says bye!')\n",
        "p=Person('DongMyung Yeo')\n",
        "print(p.name)\n",
        "p.Hello()"
      ],
      "execution_count": 22,
      "outputs": [
        {
          "output_type": "stream",
          "text": [
            "DongMyung Yeo\n",
            "Hello, my name is DongMyung Yeo\n"
          ],
          "name": "stdout"
        }
      ]
    },
    {
      "cell_type": "code",
      "metadata": {
        "id": "NENxNBJ5fJ6F",
        "colab_type": "code",
        "colab": {
          "base_uri": "https://localhost:8080/",
          "height": 89
        },
        "outputId": "1dbc201d-a634-4a57-d8b0-33d071917644"
      },
      "source": [
        "class MyClass:\n",
        "  def __init__(self,value): \n",
        "    self.value=value \n",
        "    print('Class is created! Value =',self.value)\n",
        "  def __del__(self): \n",
        "    print('Class is deleted')\n",
        "class Person:\n",
        "  def __init__(self,name):\n",
        "    self.name=name\n",
        "  def Hello(self):\n",
        "    print('Hello, my name is', self.name)\n",
        "  def __del__(self):\n",
        "    print(self.name,'says bye!')\n",
        "\n",
        "instance1=MyClass(100)\n",
        "instance2=Person('Yeo Dongmyung')\n",
        "print(instance1.value)\n",
        "instance2.Hello()"
      ],
      "execution_count": 27,
      "outputs": [
        {
          "output_type": "stream",
          "text": [
            "Class is created! Value = 100\n",
            "Class is deleted\n",
            "100\n",
            "Hello, my name is Yeo Dongmyung\n"
          ],
          "name": "stdout"
        }
      ]
    },
    {
      "cell_type": "code",
      "metadata": {
        "id": "mZ3w1ZOofjbx",
        "colab_type": "code",
        "colab": {
          "base_uri": "https://localhost:8080/",
          "height": 89
        },
        "outputId": "0d07e5fe-90d5-4594-a185-7a37d1ffd839"
      },
      "source": [
        "class BankAccount:\n",
        "  def __init__(self):\n",
        "    self.balance = 0\n",
        "  def withdraw(self,amount):\n",
        "    self.balance -= amount\n",
        "    return self.balance\n",
        "  def deposit(self,amount):\n",
        "    self.balance += amount\n",
        "    return self.balance\n",
        "a= BankAccount()\n",
        "b= BankAccount()\n",
        "\n",
        "print(a.deposit(200))\n",
        "print(b.deposit(100))\n",
        "\n",
        "print(a.withdraw(20))\n",
        "print(b.withdraw(20))"
      ],
      "execution_count": 29,
      "outputs": [
        {
          "output_type": "stream",
          "text": [
            "200\n",
            "100\n",
            "180\n",
            "80\n"
          ],
          "name": "stdout"
        }
      ]
    },
    {
      "cell_type": "code",
      "metadata": {
        "id": "H7sFkAo2g8Ge",
        "colab_type": "code",
        "colab": {
          "base_uri": "https://localhost:8080/",
          "height": 89
        },
        "outputId": "c50923ea-3c57-4e1b-8e55-6550c86e58a9"
      },
      "source": [
        "class Employee:\n",
        "    empCount = 0\n",
        "    def __init__(self, name, salary):\n",
        "      self.name = name\n",
        "      self.salary = salary\n",
        "      Employee.empCount += 1\n",
        "    def displayCount(self):\n",
        "      print(\"Total Employee = \", Employee.empCount)\n",
        "    def displayEmployee(self):\n",
        "      print(\"Name : \", self.name, \", Salary: \", self.salary)\n",
        "emp1 = Employee(\"Kim\", 2000)\n",
        "emp2 = Employee(\"Choi\", 5000)\n",
        "emp3 = Employee(\"Park\", 4500)\n",
        "emp1.displayEmployee()\n",
        "emp2.displayEmployee()\n",
        "emp3.displayEmployee()\n",
        "print(\"Total Employee: \", Employee.empCount) "
      ],
      "execution_count": 30,
      "outputs": [
        {
          "output_type": "stream",
          "text": [
            "Name :  Kim , Salary:  2000\n",
            "Name :  Choi , Salary:  5000\n",
            "Name :  Park , Salary:  4500\n",
            "Total Employee:  3\n"
          ],
          "name": "stdout"
        }
      ]
    },
    {
      "cell_type": "code",
      "metadata": {
        "id": "RkVgNUQIhQcS",
        "colab_type": "code",
        "colab": {
          "base_uri": "https://localhost:8080/",
          "height": 107
        },
        "outputId": "911c845a-1156-4ea5-a832-84a287258a73"
      },
      "source": [
        "# 이전 슬라이드의 class에서 salary를 모두 저장 한 후, 평균을 계산하는 과정을 추가하시오\n",
        "class Employee:\n",
        "    empCount = 0\n",
        "    TotalSalary=0\n",
        "    MeanSalary=0\n",
        "\n",
        "    def __init__(self, name, salary):\n",
        "      self.name = name\n",
        "      self.salary = salary\n",
        "      Employee.empCount += 1\n",
        "      Employee.TotalSalary += salary\n",
        "      Employee.MeanSalary = Employee.TotalSalary / Employee.empCount\n",
        "    \n",
        "    def displayCount(self):\n",
        "      print(\"Total Employee = \", Employee.empCount)\n",
        "    \n",
        "    def displayEmployee(self):\n",
        "      print(\"Name : \", self.name, \", Salary: \", self.salary)\n",
        "    def displayMeanSalary(self):\n",
        "      print(\"MeanSalary: \", Employee.MeanSalary)  \n",
        "emp1 = Employee(\"Kim\", 2000)\n",
        "emp2 = Employee(\"Choi\", 5000)\n",
        "emp3 = Employee(\"Park\", 4500)\n",
        "emp1.displayEmployee()\n",
        "emp2.displayEmployee()\n",
        "emp3.displayEmployee()\n",
        "print(\"Total Employee: \", Employee.empCount) \n",
        "emp3.displayMeanSalary()"
      ],
      "execution_count": 31,
      "outputs": [
        {
          "output_type": "stream",
          "text": [
            "Name :  Kim , Salary:  2000\n",
            "Name :  Choi , Salary:  5000\n",
            "Name :  Park , Salary:  4500\n",
            "Total Employee:  3\n",
            "MeanSalary:  3833.3333333333335\n"
          ],
          "name": "stdout"
        }
      ]
    },
    {
      "cell_type": "code",
      "metadata": {
        "id": "eJt3MDnWh7eF",
        "colab_type": "code",
        "colab": {}
      },
      "source": [
        "'''• 이름과 국어, 수학, 영어 점수를 가지는 클래스를 생\n",
        "성한다\n",
        "• 과목을 넣으면 점수를 보여주는 과정을 생성한다\n",
        "• 개인별 평균 점수를 보여주는 과정을 생성한다'''"
      ],
      "execution_count": 0,
      "outputs": []
    },
    {
      "cell_type": "code",
      "metadata": {
        "id": "1gPcRwRJiJ57",
        "colab_type": "code",
        "colab": {
          "base_uri": "https://localhost:8080/",
          "height": 71
        },
        "outputId": "caa22961-ca73-4acb-9242-c5260bdb5bfa"
      },
      "source": [
        "class Grade:\n",
        "  def __init__(self, name, kor, math, eng):\n",
        "    self.name = name\n",
        "    self.kor = int(kor)\n",
        "    self.math = int(math)\n",
        "    self.eng = int(eng)\n",
        "\n",
        "  def average(self):\n",
        "    average = (self.kor+self.math+self.eng)/3\n",
        "    print(self.name, \"님의 평균 점수는\", str(average), \" 점 입니다\")\n",
        "\n",
        "  def score(self, course):\n",
        "    if course == 'kor':\n",
        "      s = self.kor\n",
        "    elif course == 'math':\n",
        "      s = self.math\n",
        "    elif course == 'eng':\n",
        "      s = self.eng\n",
        "    else:\n",
        "      s = -1\n",
        "    if s == -1 :\n",
        "      print(\"해당하는 과목의 점수가 없습니다.\")\n",
        "    else:\n",
        "      print(self.name, \"님의 \", course, \" 과목의 점수는\", str(s), \" 점 입니다\")\n",
        "\n",
        "p1 = Grade(\"MH\", 60, 80, 65)\n",
        "p2 = Grade(\"JH\", 80, 49, 93)\n",
        "p1.score('kor')\n",
        "p2.score('eng')\n",
        "p2.average()"
      ],
      "execution_count": 33,
      "outputs": [
        {
          "output_type": "stream",
          "text": [
            "MH 님의  kor  과목의 점수는 60  점 입니다\n",
            "JH 님의  eng  과목의 점수는 93  점 입니다\n",
            "JH 님의 평균 점수는 74.0  점 입니다\n"
          ],
          "name": "stdout"
        }
      ]
    },
    {
      "cell_type": "code",
      "metadata": {
        "id": "b95VZKJfjLd4",
        "colab_type": "code",
        "colab": {
          "base_uri": "https://localhost:8080/",
          "height": 35
        },
        "outputId": "37da2be0-1913-4e08-94cc-c23dc7e22595"
      },
      "source": [
        "class BankAccount:\n",
        "\tdef __init__(self):\n",
        "\t\tself.balance = 500\n",
        "\n",
        "\tdef withdraw(self, amount):\n",
        "\t\tself.balance -= amount\n",
        "\t\treturn self.balance\n",
        "\n",
        "\tdef deposit(self, amount):\n",
        "\t\tself.balance += amount\n",
        "\t\treturn self.balance\n",
        "\n",
        "a = BankAccount()\n",
        "print(a.deposit(200), a.withdraw(20))"
      ],
      "execution_count": 34,
      "outputs": [
        {
          "output_type": "stream",
          "text": [
            "700 680\n"
          ],
          "name": "stdout"
        }
      ]
    }
  ]
}